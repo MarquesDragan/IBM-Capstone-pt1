{
    "nbformat_minor": 1, 
    "cells": [
        {
            "source": "# Introduction", 
            "cell_type": "markdown", 
            "metadata": {
                "collapsed": true
            }
        }, 
        {
            "source": "## Problem", 
            "cell_type": "markdown", 
            "metadata": {}
        }, 
        {
            "source": "A grocery store chain is located in Toronto. The chain wants to expand to East Toronto but does not know where to expand to in terms of neighborhoods. It would like to expand to a location that has similar customers to its current population.If the new store is close to competitors, then the store will not do as well because of the competition. If it is too far from its core customers then it will not do well either.The store needs to build with these issues in mind and take careful heed of all circumstances to make the right decision.", 
            "cell_type": "markdown", 
            "attachments": {}, 
            "metadata": {}
        }, 
        {
            "source": "## Data Needed", 
            "cell_type": "markdown", 
            "metadata": {}
        }, 
        {
            "source": "East Toronto will need to have a geo-locational information performed about all the neighborhoods in that location. Since the chain is in East Toronto the locations are going to be focused in that area and expanded out from the central location of the chain. Toronto neighbourhoods data will be obtained by utilizing postal codes and data from web scrapping Wikipedia. \nThe neighborhoods datasets will be visualized through a folium map. Additional data will be optained through geocoder and foursquare. If the data from geocoder and foursquare are clean then scrabbing the data will be limited and will be useful for the analysis.", 
            "cell_type": "markdown", 
            "metadata": {}
        }, 
        {
            "source": "## Data Analysis", 
            "cell_type": "markdown", 
            "metadata": {}
        }, 
        {
            "source": "The data will need to be clustered by neighborhoods and the uniqueness of each neighboorhood will be explored. The neighborhoods will be ranked from closest to furtherest and most similar to least giving a uniqueness for each. This will allow the grocery to see the best locations to open new groceries in a different neighborhood.", 
            "cell_type": "markdown", 
            "metadata": {}
        }, 
        {
            "source": "## Results", 
            "cell_type": "markdown", 
            "metadata": {}
        }, 
        {
            "source": "Best Riverdale\n2nd Danforthwest\n3rd Beaches\n4th Beaches West\n5th India Bazaar", 
            "cell_type": "markdown", 
            "attachments": {}, 
            "metadata": {}
        }
    ], 
    "metadata": {
        "kernelspec": {
            "display_name": "Python 3.5", 
            "name": "python3", 
            "language": "python"
        }, 
        "language_info": {
            "mimetype": "text/x-python", 
            "nbconvert_exporter": "python", 
            "version": "3.5.5", 
            "name": "python", 
            "file_extension": ".py", 
            "pygments_lexer": "ipython3", 
            "codemirror_mode": {
                "version": 3, 
                "name": "ipython"
            }
        }
    }, 
    "nbformat": 4
}